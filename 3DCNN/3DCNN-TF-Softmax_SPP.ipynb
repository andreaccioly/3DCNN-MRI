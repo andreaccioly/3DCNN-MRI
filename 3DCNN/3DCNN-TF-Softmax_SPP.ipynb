{
 "cells": [
  {
   "cell_type": "code",
   "execution_count": 16,
   "metadata": {},
   "outputs": [],
   "source": [
    "import os\n",
    "os.environ[\"CUDA_DEVICE_ORDER\"] = \"GPU\" #\"PCI_BUS_ID\"   #if like me you do not have a lot of memory in your GPU\n",
    "os.environ[\"CUDA_VISIBLE_DEVICES\"] = \"GPU\" #then these two lines force keras to use your CPU\n",
    "#import keras\n",
    "import tensorflow as tf\n",
    "from tensorflow.keras.models import Sequential\n",
    "from tensorflow.keras.layers import Input, Dense, Flatten, Conv3D, MaxPooling3D, Dropout, BatchNormalization, Activation, Softmax\n",
    "from tensorflow.keras.utils import to_categorical\n",
    "from tensorflow import keras \n",
    "import numpy as np\n",
    "#np.random.seed(66)"
   ]
  },
  {
   "cell_type": "code",
   "execution_count": 17,
   "metadata": {},
   "outputs": [],
   "source": [
    "import tensorflow as tf"
   ]
  },
  {
   "cell_type": "code",
   "execution_count": 18,
   "metadata": {},
   "outputs": [],
   "source": [
    "class SppnetLayer(keras.layers.Layer):\n",
    "    '''This layer takes an input tensor and pools the tensor\n",
    "      in local spatial bins.\n",
    "      This layer uses Max pooling.\n",
    "      It accepts input in tensorflow format. # channels last\n",
    "\n",
    "    # Input\n",
    "        list of filter in form [x,y,z] \n",
    "    # Input shape : 5d tensor [None, X,Y,Z channels]\n",
    "    # Output shape : 3d tensor [None,pooled dim, channels] \n",
    "\n",
    "    '''\n",
    "    def __init__(self, filters = [1], **kwargs):\n",
    "        self.filters = filters\n",
    "        super(SppnetLayer, self).__init__(**kwargs)\n",
    "\n",
    "    def compute_output_shape(self, input_shape):\n",
    "        length = 0;\n",
    "        for f_size in self.filters:\n",
    "            length+= (f_size*f_size)\n",
    "        return (input_shape[0],length*input_shape[4])\n",
    "      \n",
    "    def get_config(self):\n",
    "        config = {'filters': self.filters}\n",
    "        base_config = super(SppnetLayer, self).get_config()\n",
    "        return dict(list(base_config.items()) + list(config.items()))\n",
    "\n",
    "    def call(self, inputs):\n",
    "      output = []\n",
    "      for f_size in self.filters:\n",
    "        win_size = K.int_shape(inputs)[1]/f_size\n",
    "        print(win_size)\n",
    "        win_size = int(win_size)\n",
    "        for x_start in range(0,f_size):\n",
    "          for y_start in range(0,f_size):\n",
    "            for z_start in range(0,f_size):\n",
    "                X = int(x_start*win_size)\n",
    "                Y = int(y_start*win_size)\n",
    "                Z = int(z_start*win_size)\n",
    "                result = K.max(inputs[:,X:X+win_size,Y:Y+win_size,Z:Z+win_size,:],axis = (1,2,3))\n",
    "                output.append(result)\n",
    "      output = K.concatenate(output)\n",
    "      return output"
   ]
  },
  {
   "cell_type": "code",
   "execution_count": 19,
   "metadata": {},
   "outputs": [],
   "source": [
    "data1 = np.load(r'H:\\Users\\admin\\Documents\\NSU-PhD\\Dissertation Proposal\\CMB_Projeto\\roi_01-10_16x16x10.npy', allow_pickle=True)\n",
    "data2 = np.load(r'H:\\Users\\admin\\Documents\\NSU-PhD\\Dissertation Proposal\\CMB_Projeto\\roi_11-20_16x16x10.npy', allow_pickle=True)"
   ]
  },
  {
   "cell_type": "code",
   "execution_count": 20,
   "metadata": {},
   "outputs": [
    {
     "data": {
      "text/plain": [
       "(74, 16, 16, 10)"
      ]
     },
     "execution_count": 20,
     "metadata": {},
     "output_type": "execute_result"
    }
   ],
   "source": [
    "data = np.concatenate((data1,data2))\n",
    "data.shape"
   ]
  },
  {
   "cell_type": "code",
   "execution_count": 21,
   "metadata": {},
   "outputs": [
    {
     "data": {
      "text/plain": [
       "(160, 16, 16, 10)"
      ]
     },
     "execution_count": 21,
     "metadata": {},
     "output_type": "execute_result"
    }
   ],
   "source": [
    "data_false = np.load(r'H:\\Users\\admin\\Documents\\NSU-PhD\\Dissertation Proposal\\CMB_Projeto\\negatives_16x16x10.npy', allow_pickle=True)\n",
    "data_false.shape"
   ]
  },
  {
   "cell_type": "code",
   "execution_count": 22,
   "metadata": {},
   "outputs": [
    {
     "data": {
      "text/plain": [
       "(234, 16, 16, 10)"
      ]
     },
     "execution_count": 22,
     "metadata": {},
     "output_type": "execute_result"
    }
   ],
   "source": [
    "fulldata = np.concatenate((data,data_false))\n",
    "fulldata.shape"
   ]
  },
  {
   "cell_type": "code",
   "execution_count": 23,
   "metadata": {},
   "outputs": [
    {
     "data": {
      "text/plain": [
       "(234, 1)"
      ]
     },
     "execution_count": 23,
     "metadata": {},
     "output_type": "execute_result"
    }
   ],
   "source": [
    "ones = [1 for i in range(data.shape[0])]\n",
    "zeros = [0 for i in range(data_false.shape[0])]\n",
    "y = ones + zeros\n",
    "y = np.array(y)\n",
    "y = y.reshape(-1,1)\n",
    "y.shape"
   ]
  },
  {
   "cell_type": "code",
   "execution_count": 24,
   "metadata": {},
   "outputs": [
    {
     "data": {
      "text/plain": [
       "(234, 2)"
      ]
     },
     "execution_count": 24,
     "metadata": {},
     "output_type": "execute_result"
    }
   ],
   "source": [
    "from sklearn.preprocessing import OneHotEncoder\n",
    "\n",
    "enc = OneHotEncoder().fit(y)\n",
    "onehotlabels = enc.transform(y).toarray()\n",
    "onehotlabels.shape"
   ]
  },
  {
   "cell_type": "code",
   "execution_count": 25,
   "metadata": {},
   "outputs": [],
   "source": [
    "fulldata_res = fulldata.reshape(234,16,16,10,1)"
   ]
  },
  {
   "cell_type": "code",
   "execution_count": 26,
   "metadata": {},
   "outputs": [],
   "source": [
    "from sklearn.model_selection import train_test_split\n",
    "\n",
    "X_train, X_test, y_train, y_test = train_test_split(fulldata_res, onehotlabels, test_size=0.3,shuffle= True)"
   ]
  },
  {
   "cell_type": "code",
   "execution_count": 27,
   "metadata": {},
   "outputs": [],
   "source": [
    "ishape = (16,16,10,1)"
   ]
  },
  {
   "cell_type": "code",
   "execution_count": 28,
   "metadata": {},
   "outputs": [],
   "source": [
    "import  os\n",
    "import  tensorflow as tf\n",
    "from tensorflow import keras\n",
    "from tensorflow.keras import datasets, layers, optimizers, models\n",
    "from tensorflow.keras import regularizers\n",
    "from tensorflow.keras.callbacks import ModelCheckpoint, EarlyStopping, ReduceLROnPlateau\n",
    "from tensorflow.keras.models import Model\n",
    "from tensorflow.python.keras import backend as K\n",
    "#from keras_pyramid_pooling_module import PyramidPoolingModule"
   ]
  },
  {
   "cell_type": "code",
   "execution_count": 29,
   "metadata": {},
   "outputs": [],
   "source": [
    "strides=(1, 1, 1)\n",
    "padding = 'valid'"
   ]
  },
  {
   "cell_type": "code",
   "execution_count": null,
   "metadata": {},
   "outputs": [
    {
     "name": "stdout",
     "output_type": "stream",
     "text": [
      "1.0\n",
      "1.0\n",
      "1.0\n",
      "0.015625\n"
     ]
    }
   ],
   "source": [
    "model = tf.keras.Sequential()\n",
    "\n",
    "#model.add(Input(shape=input_shape))\n",
    "model.add(Conv3D(32, (7,7,5), strides=strides, padding=padding, input_shape=ishape))\n",
    "model.add(BatchNormalization())\n",
    "model.add(Activation('relu'))\n",
    "model.add(Dropout(0.3))\n",
    "model.add(MaxPooling3D(pool_size=(2, 2, 2)))\n",
    "\n",
    "model.add(Conv3D(64, (5,5,3), strides=strides, padding=padding))\n",
    "model.add(BatchNormalization())\n",
    "model.add(Activation('relu'))\n",
    "model.add(Dropout(0.3))\n",
    "model.add(MaxPooling3D(pool_size=(1,1,1)))\n",
    "\n",
    "## Include SPP\n",
    "model.add(SppnetLayer([1,1,1,64]))\n",
    "\n",
    "model.add(Flatten())\n",
    "model.add(Dense(500))\n",
    "model.add(Dropout(0.3))\n",
    "model.add(Activation('relu'))\n",
    "model.add(Dense(100))\n",
    "model.add(Activation('relu'))\n",
    "model.add(Dropout(0.3))\n",
    "model.add(Dense(2, activation='softmax'))\n",
    "          \n",
    "model.summary()"
   ]
  },
  {
   "cell_type": "code",
   "execution_count": null,
   "metadata": {},
   "outputs": [],
   "source": [
    "#### keras training\n",
    "# compiling the optimizer, loss function, and  metrics \n",
    "model.compile(optimizer=tf.keras.optimizers.Adam(0.0001),\n",
    "              loss='categorical_crossentropy',\n",
    "              metrics=['accuracy'])\n",
    "\n",
    "batch_size = 100\n",
    "epochs = 1000\n",
    "\n",
    "check = ModelCheckpoint(filepath='./weights_seq2keras21_09.hdf5', verbose=0, save_best_only=True, monitor='val_loss')\n",
    "early = EarlyStopping(monitor='val_loss',patience=3)\n",
    "\n",
    "# train\n",
    "history = model.fit(X_train, y_train, batch_size=batch_size, epochs=epochs,validation_data=(X_test, y_test),\n",
    "         verbose=1, callbacks=[ check, early])"
   ]
  },
  {
   "cell_type": "code",
   "execution_count": null,
   "metadata": {},
   "outputs": [],
   "source": [
    "# evaluate on test set\n",
    "scores = model.evaluate(X_test, y_test, batch_size, verbose=1)\n",
    "print(\"Final test loss and accuracy :\", scores)"
   ]
  },
  {
   "cell_type": "code",
   "execution_count": null,
   "metadata": {},
   "outputs": [],
   "source": [
    "model.save(r'H:\\Users\\admin\\Documents\\NSU-PhD\\Dissertation Proposal\\CMB_Projeto\\mymodel71accseq21_09.hdf5')"
   ]
  },
  {
   "cell_type": "code",
   "execution_count": null,
   "metadata": {},
   "outputs": [],
   "source": [
    "model.save(r'H:\\Users\\admin\\Documents\\NSU-PhD\\Dissertation Proposal\\CMB_Projeto\\mymodel78seq21_09')"
   ]
  },
  {
   "cell_type": "code",
   "execution_count": null,
   "metadata": {},
   "outputs": [],
   "source": [
    "model2 = tf.keras.models.load_model(r'H:\\Users\\admin\\Documents\\NSU-PhD\\Dissertation Proposal\\CMB_Projeto\\mymodel78seq21_09')"
   ]
  },
  {
   "cell_type": "code",
   "execution_count": null,
   "metadata": {},
   "outputs": [],
   "source": [
    "# evaluate on test set\n",
    "scores = model2.evaluate(X_test, y_test, batch_size, verbose=1)\n",
    "print(\"Final test loss and accuracy :\", scores)"
   ]
  },
  {
   "cell_type": "code",
   "execution_count": null,
   "metadata": {},
   "outputs": [],
   "source": [
    "for i in history.history:\n",
    "    print(i)"
   ]
  },
  {
   "cell_type": "code",
   "execution_count": null,
   "metadata": {},
   "outputs": [],
   "source": [
    "import matplotlib.pyplot as plt\n",
    "# Plot history: Categorical crossentropy & Accuracy\n",
    "plt.plot(history.history['loss'], label='Categorical crossentropy (training data)')\n",
    "#plt.plot(history.history['val_loss'], label='Categorical crossentropy (validation data)')\n",
    "#plt.plot(history.history['accuracy'], label='Accuracy (training data)')\n",
    "#plt.plot(history.history['val_acc'], label='Accuracy (validation data)')\n",
    "plt.title('Model performance Conv3D example')\n",
    "plt.ylabel('Loss value')\n",
    "plt.xlabel('No. epoch')\n",
    "plt.legend(loc=\"upper left\")\n",
    "plt.show()"
   ]
  },
  {
   "cell_type": "code",
   "execution_count": null,
   "metadata": {},
   "outputs": [],
   "source": [
    "import matplotlib.pyplot as plt\n",
    "# Plot history: Categorical crossentropy & Accuracy\n",
    "#plt.plot(history.history['loss'], label='Categorical crossentropy (training data)')\n",
    "#plt.plot(history.history['val_loss'], label='Categorical crossentropy (validation data)')\n",
    "plt.plot(history.history['accuracy'], label='Accuracy (training data)')\n",
    "#plt.plot(history.history['val_acc'], label='Accuracy (validation data)')\n",
    "plt.title('Model performance Conv3D example')\n",
    "plt.ylabel('Loss value')\n",
    "plt.xlabel('No. epoch')\n",
    "plt.legend(loc=\"upper left\")\n",
    "plt.show()"
   ]
  },
  {
   "cell_type": "code",
   "execution_count": null,
   "metadata": {},
   "outputs": [],
   "source": []
  }
 ],
 "metadata": {
  "kernelspec": {
   "display_name": "Python 3",
   "language": "python",
   "name": "python3"
  },
  "language_info": {
   "codemirror_mode": {
    "name": "ipython",
    "version": 3
   },
   "file_extension": ".py",
   "mimetype": "text/x-python",
   "name": "python",
   "nbconvert_exporter": "python",
   "pygments_lexer": "ipython3",
   "version": "3.7.8"
  }
 },
 "nbformat": 4,
 "nbformat_minor": 4
}
