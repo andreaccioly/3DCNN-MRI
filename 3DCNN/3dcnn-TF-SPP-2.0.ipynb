{
 "cells": [
  {
   "cell_type": "code",
   "execution_count": 1,
   "metadata": {},
   "outputs": [],
   "source": [
    "import os\n",
    "os.environ[\"CUDA_DEVICE_ORDER\"] = \"PCI_BUS_ID\"   #if like me you do not have a lot of memory in your GPU\n",
    "os.environ[\"CUDA_VISIBLE_DEVICES\"] = \"\" #then these two lines force keras to use your CPU\n",
    "#import keras\n",
    "import tensorflow as tf\n",
    "from tensorflow.keras.models import Sequential\n",
    "from tensorflow.keras.layers import Input, Dense, Flatten, Conv3D, MaxPooling3D, Dropout, BatchNormalization, Activation, Softmax\n",
    "from tensorflow.keras.utils import to_categorical\n",
    "#from tensorflow import keras \n",
    "import numpy as np\n",
    "from glob import glob \n",
    "#np.random.seed(66)"
   ]
  },
  {
   "cell_type": "code",
   "execution_count": 2,
   "metadata": {},
   "outputs": [],
   "source": [
    "import tensorflow as tf"
   ]
  },
  {
   "cell_type": "code",
   "execution_count": 4,
   "metadata": {},
   "outputs": [
    {
     "data": {
      "text/plain": [
       "(74, 16, 16, 10)"
      ]
     },
     "execution_count": 4,
     "metadata": {},
     "output_type": "execute_result"
    }
   ],
   "source": [
    "i = 0 \n",
    "for file in glob('data_crop/positive/*16x16x10.npy'):\n",
    "    if i==0:\n",
    "        data = np.load(file)\n",
    "        i=1\n",
    "    else:\n",
    "        data2 = np.load(file)\n",
    "        data = np.concatenate((data,data2))        \n",
    "data.shape"
   ]
  },
  {
   "cell_type": "code",
   "execution_count": 5,
   "metadata": {},
   "outputs": [
    {
     "data": {
      "text/plain": [
       "(80, 16, 16, 10)"
      ]
     },
     "execution_count": 5,
     "metadata": {},
     "output_type": "execute_result"
    }
   ],
   "source": [
    "i = 0 \n",
    "for file in glob('data_crop/negative/*16x16x10.npy'):\n",
    "    if i==0:\n",
    "        data_false = np.load(file)\n",
    "        i=1\n",
    "    else:\n",
    "        data2 = np.load(file)\n",
    "        data_false = np.concatenate((data_false,data2))        \n",
    "data_false.shape"
   ]
  },
  {
   "cell_type": "code",
   "execution_count": 6,
   "metadata": {},
   "outputs": [
    {
     "data": {
      "text/plain": [
       "(154, 16, 16, 10)"
      ]
     },
     "execution_count": 6,
     "metadata": {},
     "output_type": "execute_result"
    }
   ],
   "source": [
    "fulldata = np.concatenate((data,data_false))\n",
    "fulldata.shape"
   ]
  },
  {
   "cell_type": "code",
   "execution_count": 7,
   "metadata": {},
   "outputs": [
    {
     "data": {
      "text/plain": [
       "(154, 1)"
      ]
     },
     "execution_count": 7,
     "metadata": {},
     "output_type": "execute_result"
    }
   ],
   "source": [
    "ones = [1 for i in range(data.shape[0])]\n",
    "zeros = [0 for i in range(data_false.shape[0])]\n",
    "y = ones + zeros\n",
    "y = np.array(y)\n",
    "y = y.reshape(-1,1)\n",
    "y.shape"
   ]
  },
  {
   "cell_type": "code",
   "execution_count": 8,
   "metadata": {},
   "outputs": [
    {
     "name": "stderr",
     "output_type": "stream",
     "text": [
      "/home/offsouza/miniconda3/envs/mri/lib/python3.6/site-packages/sklearn/preprocessing/_encoders.py:415: FutureWarning: The handling of integer data will change in version 0.22. Currently, the categories are determined based on the range [0, max(values)], while in the future they will be determined based on the unique values.\n",
      "If you want the future behaviour and silence this warning, you can specify \"categories='auto'\".\n",
      "In case you used a LabelEncoder before this OneHotEncoder to convert the categories to integers, then you can now use the OneHotEncoder directly.\n",
      "  warnings.warn(msg, FutureWarning)\n"
     ]
    },
    {
     "data": {
      "text/plain": [
       "(154, 2)"
      ]
     },
     "execution_count": 8,
     "metadata": {},
     "output_type": "execute_result"
    }
   ],
   "source": [
    "from sklearn.preprocessing import OneHotEncoder\n",
    "\n",
    "enc = OneHotEncoder().fit(y)\n",
    "onehotlabels = enc.transform(y).toarray()\n",
    "onehotlabels.shape"
   ]
  },
  {
   "cell_type": "code",
   "execution_count": 9,
   "metadata": {},
   "outputs": [],
   "source": [
    "fulldata_res = fulldata.reshape(154,16,16,10,1)"
   ]
  },
  {
   "cell_type": "code",
   "execution_count": 10,
   "metadata": {},
   "outputs": [],
   "source": [
    "from sklearn.model_selection import train_test_split\n",
    "\n",
    "X_train, X_test, y_train, y_test = train_test_split(fulldata_res, onehotlabels, test_size=0.3,shuffle= True)"
   ]
  },
  {
   "cell_type": "code",
   "execution_count": 11,
   "metadata": {},
   "outputs": [],
   "source": [
    "ishape = (16,16,10,1) #4672 #2336500\n",
    "\n",
    "#ishape = (20,20,16,1) #4672 #2336500\n"
   ]
  },
  {
   "cell_type": "code",
   "execution_count": 12,
   "metadata": {},
   "outputs": [],
   "source": [
    "import  os\n",
    "import  tensorflow as tf\n",
    "from tensorflow import keras\n",
    "from tensorflow.keras import datasets, layers, optimizers, models\n",
    "from tensorflow.keras import regularizers\n",
    "from tensorflow.keras.callbacks import ModelCheckpoint, EarlyStopping, ReduceLROnPlateau\n",
    "from tensorflow.keras.models import Model\n",
    "from tensorflow.keras.layers import Layer\n",
    "from tensorflow.keras import backend as K"
   ]
  },
  {
   "cell_type": "code",
   "execution_count": 13,
   "metadata": {},
   "outputs": [],
   "source": [
    "strides=(1, 1, 1)\n",
    "padding = 'valid'"
   ]
  },
  {
   "cell_type": "code",
   "execution_count": 14,
   "metadata": {},
   "outputs": [],
   "source": [
    "\n",
    "class SpatialPyramidPooling(Layer):\n",
    "    \"\"\"Spatial pyramid pooling layer for 3D inputs.\n",
    "    See Spatial Pyramid Pooling in Deep Convolutional Networks for Visual Recognition,\n",
    "    K. He, X. Zhang, S. Ren, J. Sun\n",
    "    # Arguments\n",
    "        pool_list: list of int\n",
    "            List of pooling regions to use. The length of the list is the number of pooling regions,\n",
    "            each int in the list is the number of regions in that pool. For example [1,2,4] would be 3\n",
    "            regions with 1, 2x2 and 4x4 max pools, so 21 outputs per feature map\n",
    "    # Input shape\n",
    "        4D tensor with shape:\n",
    "        `(samples, channels, rows, cols)` if dim_ordering='th'\n",
    "        or 4D tensor with shape:\n",
    "        `(samples, rows, cols, channels)` if dim_ordering='tf'.\n",
    "    # Output shape\n",
    "        2D tensor with shape:\n",
    "        `(samples, channels * sum([i * i for i in pool_list])`\n",
    "    \"\"\"\n",
    "\n",
    "    def __init__(self, pool_list, **kwargs):\n",
    "\n",
    "        self.dim_ordering = 'tf'\n",
    "\n",
    "        self.pool_list = pool_list\n",
    "\n",
    "        self.num_outputs_per_channel = sum([i * i for i in pool_list])\n",
    "\n",
    "        super(SpatialPyramidPooling, self).__init__(**kwargs)\n",
    "\n",
    "    def build(self, input_shape):\n",
    "        if self.dim_ordering == 'th':\n",
    "            self.nb_channels = input_shape[1]\n",
    "        elif self.dim_ordering == 'tf':\n",
    "            self.nb_channels = input_shape[4]\n",
    "\n",
    "    def compute_output_shape(self, input_shape):\n",
    "        print((input_shape[0], self.nb_channels * self.num_outputs_per_channel))\n",
    "        return (input_shape[0], self.nb_channels * self.num_outputs_per_channel)\n",
    "\n",
    "    def get_config(self):\n",
    "        config = {'pool_list': self.pool_list}\n",
    "        base_config = super(SpatialPyramidPooling, self).get_config()\n",
    "        return dict(list(base_config.items()) + list(config.items()))\n",
    "\n",
    "    def call(self, x, mask=None):\n",
    "\n",
    "        input_shape = x.shape        \n",
    "\n",
    "        if self.dim_ordering == 'th':\n",
    "            num_rows = input_shape[2]\n",
    "            num_cols = input_shape[3]\n",
    "            \n",
    "        elif self.dim_ordering == 'tf':\n",
    "            num_rows = input_shape[1]\n",
    "            num_cols = input_shape[2]\n",
    "            num_depth = input_shape[3]\n",
    "\n",
    "        row_length = [K.cast(num_rows, 'float32') / i for i in self.pool_list]        \n",
    "        col_length = [K.cast(num_cols, 'float32') / i for i in self.pool_list]\n",
    "        depth_length = [K.cast(num_depth, 'float32') / i for i in self.pool_list]\n",
    "        outputs = []\n",
    "\n",
    "        if self.dim_ordering == 'th':\n",
    "            for pool_num, num_pool_regions in enumerate(self.pool_list):\n",
    "                for jy in range(num_pool_regions):\n",
    "                    for ix in range(num_pool_regions):\n",
    "                        x1 = ix * col_length[pool_num]\n",
    "                        x2 = ix * col_length[pool_num] + col_length[pool_num]\n",
    "                        y1 = jy * row_length[pool_num]\n",
    "                        y2 = jy * row_length[pool_num] + row_length[pool_num]\n",
    "\n",
    "                        x1 = K.cast(K.round(x1), 'int32')\n",
    "                        x2 = K.cast(K.round(x2), 'int32')\n",
    "                        y1 = K.cast(K.round(y1), 'int32')\n",
    "                        y2 = K.cast(K.round(y2), 'int32')\n",
    "                        new_shape = [input_shape[0], input_shape[1],\n",
    "                                     y2 - y1, x2 - x1]\n",
    "                        x_crop = x[:, :, y1:y2, x1:x2]\n",
    "                        xm = K.reshape(x_crop, new_shape)\n",
    "                        pooled_val = K.max(xm, axis=(2, 3))\n",
    "                        outputs.append(pooled_val)\n",
    "\n",
    "        elif self.dim_ordering == 'tf':            \n",
    "            for pool_num, num_pool_regions in enumerate(self.pool_list):\n",
    "                for zz in range(num_pool_regions):                    \n",
    "                    for jy in range(num_pool_regions):                        \n",
    "                        for ix in range(num_pool_regions):                            \n",
    "                            x1 = ix * col_length[pool_num]\n",
    "                            x2 = ix * col_length[pool_num] + col_length[pool_num]\n",
    "                            y1 = jy * row_length[pool_num]\n",
    "                            y2 = jy * row_length[pool_num] + row_length[pool_num]\n",
    "                            z1 = zz * depth_length[pool_num]\n",
    "                            z2 = zz * depth_length[pool_num] + depth_length[pool_num]\n",
    "                            \n",
    "                            x1 = K.cast(K.round(x1), 'int32')\n",
    "                            x2 = K.cast(K.round(x2), 'int32')\n",
    "                            y1 = K.cast(K.round(y1), 'int32')\n",
    "                            y2 = K.cast(K.round(y2), 'int32')\n",
    "                            z1 = K.cast(K.round(z1), 'int32')\n",
    "                            z2 = K.cast(K.round(z2), 'int32')                            \n",
    "                            \n",
    "\n",
    "                            new_shape = [input_shape[0], y2 - y1,\n",
    "                                         x2 - x1, z2 - z1, input_shape[4]]\n",
    "                            \n",
    "\n",
    "                            x_crop = x[:, y1 -y2, x1-x2, z1-z2, :]\n",
    "                            \n",
    "                      \n",
    "                            outputs.append(x_crop)\n",
    "        \n",
    "                \n",
    "            \n",
    "        if self.dim_ordering == 'th':\n",
    "            outputs = K.concatenate(outputs)\n",
    "        elif self.dim_ordering == 'tf':\n",
    "            \n",
    "            outputs = K.concatenate(outputs)\n",
    "            \n",
    "        return outputs"
   ]
  },
  {
   "cell_type": "code",
   "execution_count": 15,
   "metadata": {
    "scrolled": false
   },
   "outputs": [
    {
     "name": "stdout",
     "output_type": "stream",
     "text": [
      "Model: \"sequential\"\n",
      "_________________________________________________________________\n",
      "Layer (type)                 Output Shape              Param #   \n",
      "=================================================================\n",
      "conv3d (Conv3D)              (None, 10, 10, 6, 32)     7872      \n",
      "_________________________________________________________________\n",
      "batch_normalization (BatchNo (None, 10, 10, 6, 32)     128       \n",
      "_________________________________________________________________\n",
      "activation (Activation)      (None, 10, 10, 6, 32)     0         \n",
      "_________________________________________________________________\n",
      "dropout (Dropout)            (None, 10, 10, 6, 32)     0         \n",
      "_________________________________________________________________\n",
      "max_pooling3d (MaxPooling3D) (None, 5, 5, 3, 32)       0         \n",
      "_________________________________________________________________\n",
      "conv3d_1 (Conv3D)            (None, 1, 1, 1, 64)       153664    \n",
      "_________________________________________________________________\n",
      "activation_1 (Activation)    (None, 1, 1, 1, 64)       0         \n",
      "_________________________________________________________________\n",
      "batch_normalization_1 (Batch (None, 1, 1, 1, 64)       256       \n",
      "_________________________________________________________________\n",
      "spatial_pyramid_pooling (Spa (None, 4672)              0         \n",
      "_________________________________________________________________\n",
      "dense (Dense)                (None, 500)               2336500   \n",
      "_________________________________________________________________\n",
      "dropout_1 (Dropout)          (None, 500)               0         \n",
      "_________________________________________________________________\n",
      "activation_2 (Activation)    (None, 500)               0         \n",
      "_________________________________________________________________\n",
      "dense_1 (Dense)              (None, 100)               50100     \n",
      "_________________________________________________________________\n",
      "activation_3 (Activation)    (None, 100)               0         \n",
      "_________________________________________________________________\n",
      "dropout_2 (Dropout)          (None, 100)               0         \n",
      "_________________________________________________________________\n",
      "dense_2 (Dense)              (None, 2)                 202       \n",
      "=================================================================\n",
      "Total params: 2,548,722\n",
      "Trainable params: 2,548,530\n",
      "Non-trainable params: 192\n",
      "_________________________________________________________________\n"
     ]
    }
   ],
   "source": [
    "model = tf.keras.Sequential()\n",
    "\n",
    "\n",
    "model.add(Conv3D(32, (7,7,5), strides=strides, padding=padding, input_shape=ishape))\n",
    "model.add(BatchNormalization())\n",
    "model.add(Activation('relu'))\n",
    "model.add(Dropout(0.3))\n",
    "model.add(MaxPooling3D(pool_size=(2, 2, 2)))\n",
    "model.add(Conv3D(64, (5,5,3), strides=strides, padding=padding))\n",
    "model.add(Activation('relu'))\n",
    "model.add(BatchNormalization())\n",
    "model.add(SpatialPyramidPooling([1,2,4]))\n",
    "model.add(Dense(500))\n",
    "model.add(Dropout(0.3))\n",
    "model.add(Activation('relu'))\n",
    "model.add(Dense(100))\n",
    "model.add(Activation('relu'))\n",
    "model.add(Dropout(0.3))\n",
    "model.add(Dense(2, activation='softmax'))\n",
    "          \n",
    "model.summary()"
   ]
  },
  {
   "cell_type": "code",
   "execution_count": 16,
   "metadata": {},
   "outputs": [
    {
     "name": "stdout",
     "output_type": "stream",
     "text": [
      "Epoch 1/1000\n",
      "2/2 [==============================] - 3s 2s/step - loss: 0.8795 - accuracy: 0.5421 - val_loss: 0.6962 - val_accuracy: 0.5319\n",
      "Epoch 2/1000\n",
      "2/2 [==============================] - 0s 137ms/step - loss: 0.4861 - accuracy: 0.7757 - val_loss: 0.6948 - val_accuracy: 0.5319\n",
      "Epoch 3/1000\n",
      "2/2 [==============================] - 0s 167ms/step - loss: 0.4388 - accuracy: 0.8037 - val_loss: 0.6805 - val_accuracy: 0.5532\n",
      "Epoch 4/1000\n",
      "2/2 [==============================] - 0s 139ms/step - loss: 0.3258 - accuracy: 0.8785 - val_loss: 0.6722 - val_accuracy: 0.5319\n",
      "Epoch 5/1000\n",
      "2/2 [==============================] - 0s 203ms/step - loss: 0.4069 - accuracy: 0.8411 - val_loss: 0.6673 - val_accuracy: 0.5745\n",
      "Epoch 6/1000\n",
      "2/2 [==============================] - 0s 69ms/step - loss: 0.3692 - accuracy: 0.8411 - val_loss: 0.6724 - val_accuracy: 0.5532\n",
      "Epoch 7/1000\n",
      "2/2 [==============================] - 0s 78ms/step - loss: 0.3028 - accuracy: 0.8879 - val_loss: 0.6965 - val_accuracy: 0.5319\n",
      "Epoch 8/1000\n",
      "2/2 [==============================] - 0s 78ms/step - loss: 0.2870 - accuracy: 0.8598 - val_loss: 0.7013 - val_accuracy: 0.5319\n"
     ]
    }
   ],
   "source": [
    "# treinamento keras\n",
    "# compilando o otimizador, função de perda e metricas\n",
    "model.compile(optimizer=tf.keras.optimizers.Adam(0.0001),\n",
    "              loss='categorical_crossentropy',\n",
    "              metrics=['accuracy'])\n",
    "\n",
    "batch_size = 100\n",
    "epochs = 1000\n",
    "\n",
    "check = ModelCheckpoint(filepath='./weights_seq2keras21_09.hdf5', verbose=0, save_best_only=True, monitor='val_loss')\n",
    "early = EarlyStopping(monitor='val_loss',patience=3)\n",
    "\n",
    "# train\n",
    "history = model.fit(X_train, y_train, batch_size=batch_size, epochs=epochs,validation_data=(X_test, y_test),\n",
    "         verbose=1, callbacks=[ check, early])\n",
    "\n"
   ]
  },
  {
   "cell_type": "code",
   "execution_count": 17,
   "metadata": {},
   "outputs": [
    {
     "name": "stdout",
     "output_type": "stream",
     "text": [
      "1/1 [==============================] - 0s 1ms/step - loss: 0.7013 - accuracy: 0.5319\n",
      "Final test loss and accuracy : [0.70134437084198, 0.5319148898124695]\n"
     ]
    }
   ],
   "source": [
    "# evaluate on test set\n",
    "scores = model.evaluate(X_test, y_test, batch_size, verbose=1)\n",
    "print(\"Final test loss and accuracy :\", scores)"
   ]
  },
  {
   "cell_type": "code",
   "execution_count": 18,
   "metadata": {},
   "outputs": [
    {
     "name": "stdout",
     "output_type": "stream",
     "text": [
      "WARNING:tensorflow:From /home/offsouza/miniconda3/envs/mri/lib/python3.6/site-packages/tensorflow/python/ops/resource_variable_ops.py:1817: calling BaseResourceVariable.__init__ (from tensorflow.python.ops.resource_variable_ops) with constraint is deprecated and will be removed in a future version.\n",
      "Instructions for updating:\n",
      "If using Keras pass *_constraint arguments to layers.\n",
      "INFO:tensorflow:Assets written to: ./tf_model/3dcnn_SPP16_2909/assets\n"
     ]
    }
   ],
   "source": [
    "model.save('./tf_model/3dcnn_SPP16_2909')"
   ]
  },
  {
   "cell_type": "raw",
   "metadata": {},
   "source": [
    "model2 = tf.keras.models.load_model('tfmodels/mymodel78seq21_09')"
   ]
  },
  {
   "cell_type": "raw",
   "metadata": {},
   "source": [
    "# evaluate on test set\n",
    "scores = model2.evaluate(X_test, y_test, batch_size, verbose=1)\n",
    "print(\"Final test loss and accuracy :\", scores)"
   ]
  },
  {
   "cell_type": "code",
   "execution_count": 19,
   "metadata": {},
   "outputs": [
    {
     "name": "stdout",
     "output_type": "stream",
     "text": [
      "loss\n",
      "accuracy\n",
      "val_loss\n",
      "val_accuracy\n"
     ]
    }
   ],
   "source": [
    "for i in history.history:\n",
    "    print(i)"
   ]
  },
  {
   "cell_type": "code",
   "execution_count": 20,
   "metadata": {},
   "outputs": [
    {
     "data": {
      "image/png": "[encoded data removed]",
      "text/plain": [
       "<Figure size 432x288 with 1 Axes>"
      ]
     },
     "metadata": {
      "needs_background": "light"
     },
     "output_type": "display_data"
    }
   ],
   "source": [
    "import matplotlib.pyplot as plt\n",
    "# Plot history: Categorical crossentropy & Accuracy\n",
    "plt.plot(history.history['loss'], label='Categorical crossentropy (training data)')\n",
    "#plt.plot(history.history['val_loss'], label='Categorical crossentropy (validation data)')\n",
    "#plt.plot(history.history['accuracy'], label='Accuracy (training data)')\n",
    "#plt.plot(history.history['val_acc'], label='Accuracy (validation data)')\n",
    "plt.title('Model performance Conv3D example')\n",
    "plt.ylabel('Loss value')\n",
    "plt.xlabel('No. epoch')\n",
    "plt.legend(loc=\"upper left\")\n",
    "plt.show()"
   ]
  },
  {
   "cell_type": "code",
   "execution_count": 21,
   "metadata": {},
   "outputs": [
    {
     "data": {
      "image/png": "[encoded data removed]",
      "text/plain": [
       "<Figure size 432x288 with 1 Axes>"
      ]
     },
     "metadata": {
      "needs_background": "light"
     },
     "output_type": "display_data"
    }
   ],
   "source": [
    "import matplotlib.pyplot as plt\n",
    "# Plot history: Categorical crossentropy & Accuracy\n",
    "#plt.plot(history.history['loss'], label='Categorical crossentropy (training data)')\n",
    "#plt.plot(history.history['val_loss'], label='Categorical crossentropy (validation data)')\n",
    "plt.plot(history.history['accuracy'], label='Accuracy (training data)')\n",
    "#plt.plot(history.history['val_acc'], label='Accuracy (validation data)')\n",
    "plt.title('Model performance Conv3D example')\n",
    "plt.ylabel('Loss value')\n",
    "plt.xlabel('No. epoch')\n",
    "plt.legend(loc=\"upper left\")\n",
    "plt.show()"
   ]
  }
 ],
 "metadata": {
  "kernelspec": {
   "display_name": "Python 3.6.12 64-bit ('mri': conda)",
   "language": "python",
   "name": "python361264bitmriconda39fd92a2ae2442b48a51bcbfb3fcb958"
  },
  "language_info": {
   "codemirror_mode": {
    "name": "ipython",
    "version": 3
   },
   "file_extension": ".py",
   "mimetype": "text/x-python",
   "name": "python",
   "nbconvert_exporter": "python",
   "pygments_lexer": "ipython3",
   "version": "3.6.12"
  }
 },
 "nbformat": 4,
 "nbformat_minor": 4
}
