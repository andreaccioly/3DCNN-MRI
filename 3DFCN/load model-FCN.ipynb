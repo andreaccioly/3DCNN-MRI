{
 "cells": [
  {
   "cell_type": "code",
   "execution_count": 1,
   "metadata": {},
   "outputs": [],
   "source": [
    "import tensorflow as tf\n",
    "from tensorflow.keras import Model"
   ]
  },
  {
   "cell_type": "code",
   "execution_count": 2,
   "metadata": {},
   "outputs": [],
   "source": [
    "import os\n",
    "os.environ[\"CUDA_DEVICE_ORDER\"] = \"PCI_BUS_ID\"   #if like me you do not have a lot of memory in your GPU\n",
    "os.environ[\"CUDA_VISIBLE_DEVICES\"] = \"\" #then these two lines force keras to use your CPU\n",
    "#import keras\n",
    "import tensorflow as tf\n",
    "from tensorflow.keras.models import Sequential\n",
    "from tensorflow.keras.layers import Input, Dense, Flatten, Conv3D, MaxPooling3D, Dropout, BatchNormalization, Activation, Softmax\n",
    "from tensorflow.keras.utils import to_categorical\n",
    "#from tensorflow.keras.engine import InputLayer\n",
    "#from tensorflow import keras \n",
    "import numpy as np\n",
    "import matplotlib.pyplot as plt\n",
    "import cv2\n",
    "np.random.seed(66)\n"
   ]
  },
  {
   "cell_type": "code",
   "execution_count": 6,
   "metadata": {},
   "outputs": [],
   "source": [
    "model2 = tf.keras.models.load_model('../3DCNN/tf_model/mymodel78seq06_09')\n",
    "\n"
   ]
  },
  {
   "cell_type": "code",
   "execution_count": 7,
   "metadata": {},
   "outputs": [
    {
     "name": "stdout",
     "output_type": "stream",
     "text": [
      "Model: \"sequential_14\"\n",
      "_________________________________________________________________\n",
      "Layer (type)                 Output Shape              Param #   \n",
      "=================================================================\n",
      "conv3d_28 (Conv3D)           (None, 10, 10, 6, 32)     7872      \n",
      "_________________________________________________________________\n",
      "batch_normalization_28 (Batc (None, 10, 10, 6, 32)     128       \n",
      "_________________________________________________________________\n",
      "activation_56 (Activation)   (None, 10, 10, 6, 32)     0         \n",
      "_________________________________________________________________\n",
      "dropout_28 (Dropout)         (None, 10, 10, 6, 32)     0         \n",
      "_________________________________________________________________\n",
      "max_pooling3d_28 (MaxPooling (None, 5, 5, 3, 32)       0         \n",
      "_________________________________________________________________\n",
      "conv3d_29 (Conv3D)           (None, 1, 1, 1, 64)       153664    \n",
      "_________________________________________________________________\n",
      "batch_normalization_29 (Batc (None, 1, 1, 1, 64)       256       \n",
      "_________________________________________________________________\n",
      "activation_57 (Activation)   (None, 1, 1, 1, 64)       0         \n",
      "_________________________________________________________________\n",
      "dropout_29 (Dropout)         (None, 1, 1, 1, 64)       0         \n",
      "_________________________________________________________________\n",
      "max_pooling3d_29 (MaxPooling (None, 1, 1, 1, 64)       0         \n",
      "_________________________________________________________________\n",
      "flatten_14 (Flatten)         (None, 64)                0         \n",
      "_________________________________________________________________\n",
      "dense_42 (Dense)             (None, 500)               32500     \n",
      "_________________________________________________________________\n",
      "dropout_30 (Dropout)         (None, 500)               0         \n",
      "_________________________________________________________________\n",
      "activation_58 (Activation)   (None, 500)               0         \n",
      "_________________________________________________________________\n",
      "dense_43 (Dense)             (None, 100)               50100     \n",
      "_________________________________________________________________\n",
      "activation_59 (Activation)   (None, 100)               0         \n",
      "_________________________________________________________________\n",
      "dropout_31 (Dropout)         (None, 100)               0         \n",
      "_________________________________________________________________\n",
      "dense_44 (Dense)             (None, 2)                 202       \n",
      "=================================================================\n",
      "Total params: 244,722\n",
      "Trainable params: 244,530\n",
      "Non-trainable params: 192\n",
      "_________________________________________________________________\n"
     ]
    }
   ],
   "source": [
    "model2.summary()"
   ]
  },
  {
   "cell_type": "code",
   "execution_count": 12,
   "metadata": {},
   "outputs": [],
   "source": [
    "def cnn_to_fcn (model):\n",
    "\n",
    "    new_model = Sequential()\n",
    "\n",
    "    input_layer = Input(shape=(None, None, None, 1), name=\"input_new\")\n",
    "\n",
    "    new_model.add(input_layer)\n",
    "    \n",
    "    i = 0\n",
    "    for layer in model.layers:\n",
    "\n",
    "        if \"Flatten\" in str(layer):\n",
    "            flattened_ipt = True\n",
    "            f_dim = layer.input_shape\n",
    "            print('$$',f_dim)\n",
    "\n",
    "        elif \"Dense\" in str(layer):\n",
    "\n",
    "            input_shape = layer.input_shape\n",
    "            print(\"input_shape\",input_shape)\n",
    "            output_dim =  layer.get_weights()[1].shape[0]\n",
    "            print(\"output_dim\",output_dim)\n",
    "            W,b = layer.get_weights()\n",
    "\n",
    "            if flattened_ipt:\n",
    "                shape = (f_dim[1],f_dim[2],f_dim[3],f_dim[4],output_dim)\n",
    "                print('***',shape)\n",
    "                new_W = W.reshape(shape)\n",
    "                print('***1',shape)\n",
    "                new_layer = Conv3D(output_dim,\n",
    "                                          (f_dim[1],f_dim[2],f_dim[3]),\n",
    "                                          strides=(1,1,1),\n",
    "                                          activation=layer.activation,\n",
    "                                          padding='valid',\n",
    "                                          weights=[new_W,b],name=\"conv3d_mod1%s\"%i)\n",
    "                flattened_ipt = False\n",
    "                i+=1\n",
    "\n",
    "            else:\n",
    "                print(layer.activation)\n",
    "                shape = (1,1,1,input_shape[1],output_dim)\n",
    "                new_W = W.reshape(shape)\n",
    "                new_layer = Conv3D(output_dim,\n",
    "                                          (1,1,1),\n",
    "                                          strides=(1,1,1),\n",
    "                                          activation=layer.activation,\n",
    "                                          padding='valid',\n",
    "                                          weights=[new_W,b],name=\"conv3d_mod2%s\"%i)\n",
    "                i+=1\n",
    "\n",
    "\n",
    "        else:\n",
    "            new_layer = layer\n",
    "\n",
    "        new_model.add(new_layer)\n",
    "\n",
    "    return new_model"
   ]
  },
  {
   "cell_type": "code",
   "execution_count": 13,
   "metadata": {},
   "outputs": [
    {
     "name": "stdout",
     "output_type": "stream",
     "text": [
      "$$ (None, 1, 1, 1, 64)\n",
      "input_shape (None, 64)\n",
      "output_dim 500\n",
      "*** (1, 1, 1, 64, 500)\n",
      "***1 (1, 1, 1, 64, 500)\n",
      "input_shape (None, 500)\n",
      "output_dim 100\n",
      "<function linear at 0x7fa562b93a60>\n",
      "input_shape (None, 100)\n",
      "output_dim 2\n",
      "<function softmax at 0x7fa562b93488>\n"
     ]
    }
   ],
   "source": [
    "#model = tf.keras.applications.vgg16.VGG16()\n",
    "new_model = cnn_to_fcn(model2)"
   ]
  },
  {
   "cell_type": "markdown",
   "metadata": {},
   "source": [
    "new_model = change_model(model2, new_input_shape=(None,20,20,16,1))"
   ]
  },
  {
   "cell_type": "code",
   "execution_count": 7,
   "metadata": {},
   "outputs": [
    {
     "name": "stdout",
     "output_type": "stream",
     "text": [
      "Model: \"sequential\"\n",
      "_________________________________________________________________\n",
      "Layer (type)                 Output Shape              Param #   \n",
      "=================================================================\n",
      "conv3d_28 (Conv3D)           multiple                  7872      \n",
      "_________________________________________________________________\n",
      "batch_normalization_28 (Batc multiple                  128       \n",
      "_________________________________________________________________\n",
      "activation_56 (Activation)   multiple                  0         \n",
      "_________________________________________________________________\n",
      "dropout_28 (Dropout)         multiple                  0         \n",
      "_________________________________________________________________\n",
      "max_pooling3d_28 (MaxPooling multiple                  0         \n",
      "_________________________________________________________________\n",
      "conv3d_29 (Conv3D)           multiple                  153664    \n",
      "_________________________________________________________________\n",
      "batch_normalization_29 (Batc multiple                  256       \n",
      "_________________________________________________________________\n",
      "activation_57 (Activation)   multiple                  0         \n",
      "_________________________________________________________________\n",
      "dropout_29 (Dropout)         multiple                  0         \n",
      "_________________________________________________________________\n",
      "max_pooling3d_29 (MaxPooling multiple                  0         \n",
      "_________________________________________________________________\n",
      "conv3d_mod10 (Conv3D)        (None, None, None, None,  32500     \n",
      "_________________________________________________________________\n",
      "dropout_30 (Dropout)         multiple                  0         \n",
      "_________________________________________________________________\n",
      "activation_58 (Activation)   multiple                  0         \n",
      "_________________________________________________________________\n",
      "conv3d_mod21 (Conv3D)        (None, None, None, None,  50100     \n",
      "_________________________________________________________________\n",
      "activation_59 (Activation)   multiple                  0         \n",
      "_________________________________________________________________\n",
      "dropout_31 (Dropout)         multiple                  0         \n",
      "_________________________________________________________________\n",
      "conv3d_mod22 (Conv3D)        (None, None, None, None,  202       \n",
      "=================================================================\n",
      "Total params: 244,722\n",
      "Trainable params: 244,530\n",
      "Non-trainable params: 192\n",
      "_________________________________________________________________\n"
     ]
    }
   ],
   "source": [
    "new_model.summary()"
   ]
  },
  {
   "cell_type": "markdown",
   "metadata": {},
   "source": [
    "for i in range(8):\n",
    "    \n",
    "    model2._layers.pop()\n",
    "    print(i)\n"
   ]
  },
  {
   "cell_type": "code",
   "execution_count": 8,
   "metadata": {},
   "outputs": [
    {
     "name": "stdout",
     "output_type": "stream",
     "text": [
      "conv3d_28 True\n",
      "batch_normalization_28 True\n",
      "activation_56 True\n",
      "dropout_28 True\n",
      "max_pooling3d_28 True\n",
      "conv3d_29 True\n",
      "batch_normalization_29 True\n",
      "activation_57 True\n",
      "dropout_29 True\n",
      "max_pooling3d_29 True\n",
      "flatten_14 True\n",
      "dense_42 True\n",
      "dropout_30 True\n",
      "activation_58 True\n",
      "dense_43 True\n",
      "activation_59 True\n",
      "dropout_31 True\n",
      "dense_44 True\n"
     ]
    }
   ],
   "source": [
    "for l in model2.layers:\n",
    "    print(l.name, l.trainable)"
   ]
  },
  {
   "cell_type": "code",
   "execution_count": 9,
   "metadata": {},
   "outputs": [
    {
     "name": "stderr",
     "output_type": "stream",
     "text": [
      "/home/offsouza/miniconda3/envs/cuda/lib/python3.6/site-packages/dicom/__init__.py:53: UserWarning: \n",
      "This code is using an older version of pydicom, which is no longer \n",
      "maintained as of Jan 2017.  You can access the new pydicom features and API \n",
      "by installing `pydicom` from PyPI.\n",
      "See 'Transitioning to pydicom 1.x' section at pydicom.readthedocs.org \n",
      "for more information.\n",
      "\n",
      "  warnings.warn(msg)\n"
     ]
    },
    {
     "name": "stdout",
     "output_type": "stream",
     "text": [
      "['/home/offsouza/otavio/Freela/cmb-3dcnn-data/nii/01.nii', '/home/offsouza/otavio/Freela/cmb-3dcnn-data/nii/02.nii', '/home/offsouza/otavio/Freela/cmb-3dcnn-data/nii/03.nii', '/home/offsouza/otavio/Freela/cmb-3dcnn-data/nii/04.nii', '/home/offsouza/otavio/Freela/cmb-3dcnn-data/nii/05.nii', '/home/offsouza/otavio/Freela/cmb-3dcnn-data/nii/06.nii', '/home/offsouza/otavio/Freela/cmb-3dcnn-data/nii/07.nii', '/home/offsouza/otavio/Freela/cmb-3dcnn-data/nii/08.nii', '/home/offsouza/otavio/Freela/cmb-3dcnn-data/nii/09.nii', '/home/offsouza/otavio/Freela/cmb-3dcnn-data/nii/10.nii']\n"
     ]
    }
   ],
   "source": [
    "from glob import glob\n",
    "from nilearn import image\n",
    "import scipy.io as sio \n",
    "import numpy as np\n",
    "\n",
    "# caminho do banco de dados \n",
    "data_path = '/home/offsouza/otavio/Freela/cmb-3dcnn-data'\n",
    "\n",
    "data_files = [filee for filee in sorted(glob(data_path + '/nii/*.nii'))][:10]\n",
    "print(data_files)"
   ]
  },
  {
   "cell_type": "code",
   "execution_count": 10,
   "metadata": {},
   "outputs": [
    {
     "name": "stderr",
     "output_type": "stream",
     "text": [
      "/home/offsouza/miniconda3/envs/cuda/lib/python3.6/site-packages/ipykernel_launcher.py:3: DeprecationWarning: get_data() is deprecated in favor of get_fdata(), which has a more predictable return type. To obtain get_data() behavior going forward, use numpy.asanyarray(img.dataobj).\n",
      "\n",
      "* deprecated from version: 3.0\n",
      "* Will raise <class 'nibabel.deprecator.ExpiredDeprecationError'> as of version: 5.0\n",
      "  This is separate from the ipykernel package so we can avoid doing imports until\n"
     ]
    }
   ],
   "source": [
    "#for files in data_files:\n",
    "files = data_files[0]\n",
    "img = image.smooth_img(files, fwhm=3).get_data()"
   ]
  },
  {
   "cell_type": "code",
   "execution_count": 11,
   "metadata": {},
   "outputs": [
    {
     "data": {
      "text/plain": [
       "(512, 512, 150)"
      ]
     },
     "execution_count": 11,
     "metadata": {},
     "output_type": "execute_result"
    }
   ],
   "source": [
    "img.shape"
   ]
  },
  {
   "cell_type": "code",
   "execution_count": 12,
   "metadata": {},
   "outputs": [],
   "source": [
    "image = img.reshape(1,512,512,150,1)"
   ]
  },
  {
   "cell_type": "code",
   "execution_count": 13,
   "metadata": {},
   "outputs": [],
   "source": [
    "#img = img[:,:512//3,:512//3,:150//3,:]\n",
    "imgx = image[:,:180,:180,:78,:]\n"
   ]
  },
  {
   "cell_type": "code",
   "execution_count": 14,
   "metadata": {},
   "outputs": [
    {
     "data": {
      "text/plain": [
       "(1, 180, 180, 78, 1)"
      ]
     },
     "execution_count": 14,
     "metadata": {},
     "output_type": "execute_result"
    }
   ],
   "source": [
    "imgx.shape"
   ]
  },
  {
   "cell_type": "code",
   "execution_count": 15,
   "metadata": {},
   "outputs": [],
   "source": [
    "a = new_model.predict(imgx)"
   ]
  },
  {
   "cell_type": "code",
   "execution_count": 16,
   "metadata": {},
   "outputs": [
    {
     "data": {
      "text/plain": [
       "(1, 83, 83, 35, 2)"
      ]
     },
     "execution_count": 16,
     "metadata": {},
     "output_type": "execute_result"
    }
   ],
   "source": [
    "a.shape"
   ]
  },
  {
   "cell_type": "code",
   "execution_count": 17,
   "metadata": {},
   "outputs": [
    {
     "data": {
      "text/plain": [
       "(83, 83, 35, 2)"
      ]
     },
     "execution_count": 17,
     "metadata": {},
     "output_type": "execute_result"
    }
   ],
   "source": [
    "img = a.reshape(83,83,35,2)\n",
    "img.shape"
   ]
  },
  {
   "cell_type": "code",
   "execution_count": 18,
   "metadata": {},
   "outputs": [],
   "source": [
    "\n",
    "colormap = 0\n",
    "\n",
    "        \n",
    "#imgx = total_maks[:,:,31,1]\n",
    "imgx = img[:,30,:,0]\n",
    "imgy = img[:,35,:,1]\n",
    "imgz = img[:,:,10,1]\n",
    "\n",
    "#imgx = img\n",
    "\n",
    "imgx = (imgx * 255).round().astype(np.uint8)\n",
    "imgy = (imgy * 255).round().astype(np.uint8)\n",
    "imgz = (imgz * 255).round().astype(np.uint8)\n",
    "\n",
    "if colormap:\n",
    "        imgx = cv2.applyColorMap(imgx,5) #9 19 \n",
    "        imgy = cv2.applyColorMap(imgy, 4)\n",
    "        imgz = cv2.applyColorMap(imgz, 4)"
   ]
  },
  {
   "cell_type": "code",
   "execution_count": 19,
   "metadata": {},
   "outputs": [
    {
     "data": {
      "text/plain": [
       "(83, 35)"
      ]
     },
     "execution_count": 19,
     "metadata": {},
     "output_type": "execute_result"
    }
   ],
   "source": [
    "imgx.shape"
   ]
  },
  {
   "cell_type": "code",
   "execution_count": 20,
   "metadata": {},
   "outputs": [
    {
     "data": {
      "text/plain": [
       "[]"
      ]
     },
     "execution_count": 20,
     "metadata": {},
     "output_type": "execute_result"
    },
    {
     "data": {
      "image/png": "[encoded data removed]",
      "text/plain": [
       "<Figure size 432x288 with 1 Axes>"
      ]
     },
     "metadata": {
      "needs_background": "light"
     },
     "output_type": "display_data"
    }
   ],
   "source": [
    "#arr = imgnp\n",
    "imgxx = cv2.resize(imgx, (150,150))\n",
    "plt.imshow(imgxx, cmap='rainbow')\n",
    "#plt.colorbar()\n",
    "#plt.plot(366, 120, 'bo')\n",
    "plt.plot()"
   ]
  },
  {
   "cell_type": "code",
   "execution_count": null,
   "metadata": {},
   "outputs": [],
   "source": []
  },
  {
   "cell_type": "code",
   "execution_count": 21,
   "metadata": {},
   "outputs": [],
   "source": [
    "crop = [3,3,2]\n",
    "images_shape = [512,512,150]\n",
    "#img = img.reshape(1,512,512,150,1)"
   ]
  },
  {
   "cell_type": "code",
   "execution_count": 22,
   "metadata": {},
   "outputs": [
    {
     "name": "stdout",
     "output_type": "stream",
     "text": [
      "(1, 171, 171, 75, 1)\n",
      "(1, 171, 171, 75, 1)\n",
      "(1, 171, 171, 75, 1)\n",
      "(1, 171, 171, 75, 1)\n",
      "(1, 171, 171, 75, 1)\n",
      "(1, 171, 171, 75, 1)\n",
      "(1, 171, 171, 75, 1)\n",
      "(1, 171, 171, 75, 1)\n",
      "(1, 171, 171, 75, 1)\n",
      "(1, 171, 171, 75, 1)\n",
      "(1, 171, 171, 75, 1)\n",
      "(1, 171, 171, 75, 1)\n",
      "(1, 171, 171, 75, 1)\n",
      "(1, 171, 171, 75, 1)\n",
      "(1, 171, 171, 75, 1)\n",
      "(1, 171, 171, 75, 1)\n",
      "(1, 171, 171, 75, 1)\n",
      "(1, 171, 171, 75, 1)\n",
      "(1, 234, 234, 66, 2)\n"
     ]
    }
   ],
   "source": [
    "import numpy as np\n",
    "crop = [3,3,2]\n",
    "\n",
    "img = image.reshape(1,512,512,150,1)\n",
    "\n",
    "data_slice_3 = ([0, 170, 341],[171, 341,512])\n",
    "data_slice_2 = ([0, 75],[75, 150])\n",
    "\n",
    "#(1, 78, 78, 30, 2)\n",
    "out_slice_3 = ([0, 78, 156],[78, 156, 234])\n",
    "out_slice_2 = ([0, 33],[33, 66])\n",
    "\n",
    "total_mask = np.zeros((1,234,234,66,2))\n",
    "#total_mask = np.zeros((1,512,512,150,1))\n",
    "\n",
    "for slice2 in range(crop[2]): \n",
    "    for slice1 in range(crop[1]): \n",
    "        for slice0 in range(crop[0]): \n",
    "            \n",
    "            \n",
    "            img_crop = img[:, \n",
    "                           data_slice_3[0][slice0]:data_slice_3[1][slice0],\n",
    "                           data_slice_3[0][slice1]:data_slice_3[1][slice1],\n",
    "                           data_slice_2[0][slice2]:data_slice_2[1][slice2],:]\n",
    "            \n",
    "            print(img_crop.shape)\n",
    "            \n",
    "            score = new_model.predict(img_crop)\n",
    "            \n",
    "            total_mask[:, \n",
    "                       out_slice_3[0][slice0]:out_slice_3[1][slice0],\n",
    "                       out_slice_3[0][slice1]:out_slice_3[1][slice1],\n",
    "                       out_slice_2[0][slice2]:out_slice_2[1][slice2],:] = score\n",
    "            \n",
    "            #total_mask[:, \n",
    "            #               data_slice_3[0][slice0]:data_slice_3[1][slice0],\n",
    "            #               data_slice_3[0][slice1]:data_slice_3[1][slice1],\n",
    "            #               data_slice_2[0][slice2]:data_slice_2[1][slice2],:] = img_crop\n",
    "\n",
    "\n",
    "print(total_mask.shape)\n",
    "    #img = img[:, ]\n",
    "        "
   ]
  },
  {
   "cell_type": "code",
   "execution_count": 23,
   "metadata": {},
   "outputs": [],
   "source": [
    "total_maks = total_mask.reshape(234,234,66,2)"
   ]
  },
  {
   "cell_type": "code",
   "execution_count": 24,
   "metadata": {},
   "outputs": [],
   "source": [
    "colormap = 0\n",
    "\n",
    "        \n",
    "imgx = total_maks[:,:,31,1]\n",
    "\n",
    "\n",
    "imgx = (imgx * 255).round().astype(np.uint8)\n",
    "\n",
    "\n",
    "if colormap:\n",
    "        imgx = cv2.applyColorMap(imgx,5) #9 19 \n",
    "        "
   ]
  },
  {
   "cell_type": "code",
   "execution_count": 25,
   "metadata": {},
   "outputs": [
    {
     "data": {
      "text/plain": [
       "[]"
      ]
     },
     "execution_count": 25,
     "metadata": {},
     "output_type": "execute_result"
    },
    {
     "data": {
      "image/png": "[encoded data removed]",
      "text/plain": [
       "<Figure size 432x288 with 1 Axes>"
      ]
     },
     "metadata": {
      "needs_background": "light"
     },
     "output_type": "display_data"
    }
   ],
   "source": [
    "#arr = imgnp\n",
    "imgxx = cv2.resize(imgx, (150,150))\n",
    "plt.imshow(imgxx, cmap='rainbow')\n",
    "#plt.colorbar()\n",
    "#plt.plot(366, 120, 'bo')\n",
    "plt.plot()"
   ]
  },
  {
   "cell_type": "code",
   "execution_count": null,
   "metadata": {},
   "outputs": [],
   "source": []
  }
 ],
 "metadata": {
  "kernelspec": {
   "display_name": "Python [conda env:cuda] *",
   "language": "python",
   "name": "conda-env-cuda-py"
  },
  "language_info": {
   "codemirror_mode": {
    "name": "ipython",
    "version": 3
   },
   "file_extension": ".py",
   "mimetype": "text/x-python",
   "name": "python",
   "nbconvert_exporter": "python",
   "pygments_lexer": "ipython3",
   "version": "3.6.10"
  }
 },
 "nbformat": 4,
 "nbformat_minor": 4
}
